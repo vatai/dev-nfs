{
 "cells": [
  {
   "cell_type": "code",
   "execution_count": null,
   "metadata": {},
   "outputs": [],
   "source": [
    "from collections import namedtuple\n",
    "\n",
    "var(\"Z\")\n",
    "var(\"A B C D E F\")\n",
    "\n",
    "X2log = 43\n",
    "X = 2 ** X2log\n",
    "K = 2\n",
    "\n",
    "def fermat(n): return 2 ** (2 ** n) + 1"
   ]
  },
  {
   "cell_type": "markdown",
   "metadata": {},
   "source": [
    "Check that $2 F_7 = x^3 + k$ where $F_7 = 2^{2^7}+1$."
   ]
  },
  {
   "cell_type": "code",
   "execution_count": null,
   "metadata": {},
   "outputs": [],
   "source": [
    "2 * fermat(7) == X**3 + K"
   ]
  },
  {
   "cell_type": "code",
   "execution_count": null,
   "metadata": {},
   "outputs": [],
   "source": [
    "class Square:\n",
    "    def __init__(self, a, b, c):\n",
    "        self.a = a\n",
    "        self.b = b\n",
    "        self.c = c\n",
    "    \n",
    "    def __add__(self, other):\n",
    "        a = self.a + other \n",
    "        return Square(self.a + other.a,\n",
    "                      self.b + other.b, \n",
    "                      self.c + other.c)\n",
    "    \n",
    "    def __mul__(self, other):\n",
    "        # degs: 0+0, 1+2=3, 2+1=3 (3 == 0)\n",
    "        a = self.a * other.a -2* self.b * other.c -2* self.c * other.b\n",
    "        # degs: 0+1, 1+0, 2+2=4 (4==1)\n",
    "        b = self.a * other.b + self.b * other.a -2* self.c * other.c\n",
    "        # degs: 0+2, 1+1, 2+0\n",
    "        c = self.a * other.c + self.b * other.b + self.c * other.a\n",
    "        return Square(a, b, c)\n",
    "    \n",
    "    def __truediv__(self, other):\n",
    "        numer = self * other.conj()\n",
    "        denom = other * other.conj()\n",
    "        assert denom.b == 0 and denom.c == 0\n",
    "        a = numer.a / denom.a\n",
    "        b = numer.b / denom.a\n",
    "        c = numer.c / denom.a\n",
    "        return Square(a, b, c)\n",
    "\n",
    "    def conj(self):\n",
    "        a = self.a * self.a + 2 * self.b * self.c\n",
    "        b = -self.a * self.b - 2* self.c * self.c\n",
    "        c = self.b * self.b - self.a * self.c\n",
    "        return Square(a, b, c)\n",
    "    \n",
    "    def norm(self):\n",
    "        t0 = self.a ** 3\n",
    "        t1 = -2 * self.b ** 3\n",
    "        t2 = 4 * self.c ** 3\n",
    "        t3 = 6 * self.a * self.b * self.c\n",
    "        return t0 + t1 + t2 + t3 \n",
    "    \n",
    "    def __repr__(self):\n",
    "        return f\"[{self.a}, {self.b}, {self.c}]\"\n",
    "        "
   ]
  },
  {
   "cell_type": "code",
   "execution_count": null,
   "metadata": {},
   "outputs": [],
   "source": [
    "unit = Square(1, 1, 0)\n",
    "positive = Square(1, 0, 0)\n",
    "negative = Square(1, 0, 0)\n",
    "for i in range(15):\n",
    "    print(f\"{i} {positive} {negative}\")\n",
    "    positive = positive * unit\n",
    "    negative = negative / unit"
   ]
  },
  {
   "cell_type": "code",
   "execution_count": null,
   "metadata": {},
   "outputs": [],
   "source": [
    "# TODO check N([a,b,c] * [d,e,f]) == N(a,b,c) * N(d,e,f)"
   ]
  },
  {
   "cell_type": "code",
   "execution_count": null,
   "metadata": {},
   "outputs": [],
   "source": []
  }
 ],
 "metadata": {
  "kernelspec": {
   "display_name": "SageMath 9.2",
   "language": "sage",
   "name": "sagemath"
  },
  "language_info": {
   "codemirror_mode": {
    "name": "ipython",
    "version": 3
   },
   "file_extension": ".py",
   "mimetype": "text/x-python",
   "name": "python",
   "nbconvert_exporter": "python",
   "pygments_lexer": "ipython3",
   "version": "3.9.1"
  }
 },
 "nbformat": 4,
 "nbformat_minor": 4
}
